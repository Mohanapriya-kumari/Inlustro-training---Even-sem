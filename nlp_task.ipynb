{
  "nbformat": 4,
  "nbformat_minor": 0,
  "metadata": {
    "colab": {
      "provenance": [],
      "authorship_tag": "ABX9TyMbX+wRqYY9UdV6+IketpG1",
      "include_colab_link": true
    },
    "kernelspec": {
      "name": "python3",
      "display_name": "Python 3"
    },
    "language_info": {
      "name": "python"
    }
  },
  "cells": [
    {
      "cell_type": "markdown",
      "metadata": {
        "id": "view-in-github",
        "colab_type": "text"
      },
      "source": [
        "<a href=\"https://colab.research.google.com/github/Mohanapriya-kumari/Inlustro-training---Even-sem/blob/main/nlp_task.ipynb\" target=\"_parent\"><img src=\"https://colab.research.google.com/assets/colab-badge.svg\" alt=\"Open In Colab\"/></a>"
      ]
    },
    {
      "cell_type": "code",
      "execution_count": null,
      "metadata": {
        "id": "-pNvcL430bmG",
        "colab": {
          "base_uri": "https://localhost:8080/"
        },
        "outputId": "6e07a11e-2397-461d-f71b-0390977736a0"
      },
      "outputs": [
        {
          "output_type": "stream",
          "name": "stderr",
          "text": [
            "[nltk_data] Downloading package punkt to /root/nltk_data...\n",
            "[nltk_data]   Package punkt is already up-to-date!\n",
            "[nltk_data] Downloading package punkt_tab to /root/nltk_data...\n",
            "[nltk_data]   Package punkt_tab is already up-to-date!\n",
            "[nltk_data] Downloading package wordnet to /root/nltk_data...\n",
            "[nltk_data]   Package wordnet is already up-to-date!\n",
            "[nltk_data] Downloading package omw-1.4 to /root/nltk_data...\n",
            "[nltk_data]   Package omw-1.4 is already up-to-date!\n",
            "[nltk_data] Downloading package stopwords to /root/nltk_data...\n",
            "[nltk_data]   Package stopwords is already up-to-date!\n"
          ]
        },
        {
          "output_type": "execute_result",
          "data": {
            "text/plain": [
              "True"
            ]
          },
          "metadata": {},
          "execution_count": 2
        }
      ],
      "source": [
        "\n",
        "import nltk\n",
        "from nltk.tokenize import word_tokenize\n",
        "from nltk.stem import PorterStemmer,LancasterStemmer,SnowballStemmer\n",
        "from nltk.stem import WordNetLemmatizer\n",
        "from nltk.corpus import wordnet\n",
        "from nltk.corpus import stopwords\n",
        "\n",
        "nltk.download('punkt')\n",
        "nltk.download('punkt_tab')\n",
        "nltk.download('wordnet')\n",
        "nltk.download('omw-1.4')\n",
        "nltk.download('stopwords')"
      ]
    },
    {
      "cell_type": "markdown",
      "source": [
        "text=\"The striped bats are hanging on their feet and talking,Running, files, better, cared, studying\"\n",
        "tokens=word_tokenize(text)\n",
        "print(\"original Tokens:\", tokens)"
      ],
      "metadata": {
        "id": "8nd7bIlS1Hwf"
      }
    },
    {
      "cell_type": "code",
      "source": [
        "\n",
        "text=\"The striped bats are hanging on their feet and talking,Running, files, better, cared, studying\"\n",
        "tokens=word_tokenize(text)\n",
        "print(\"original Tokens:\", tokens)"
      ],
      "metadata": {
        "colab": {
          "base_uri": "https://localhost:8080/"
        },
        "id": "RwSD1Ncj18fa",
        "outputId": "1c2ddcd4-c163-4002-effe-113b063de2c5"
      },
      "execution_count": null,
      "outputs": [
        {
          "output_type": "stream",
          "name": "stdout",
          "text": [
            "original Tokens: ['The', 'striped', 'bats', 'are', 'hanging', 'on', 'their', 'feet', 'and', 'talking', ',', 'Running', ',', 'files', ',', 'better', ',', 'cared', ',', 'studying']\n"
          ]
        }
      ]
    },
    {
      "cell_type": "code",
      "source": [
        "\n",
        "porter=PorterStemmer()\n",
        "stemmed_words=[porter.stem(word) for word in tokens]\n",
        "print(\"Porter Steamer:\", stemmed_words)"
      ],
      "metadata": {
        "colab": {
          "base_uri": "https://localhost:8080/"
        },
        "id": "S0jrXFCx1_6p",
        "outputId": "6e13e668-ca06-4545-f52d-cbf617152804"
      },
      "execution_count": null,
      "outputs": [
        {
          "output_type": "stream",
          "name": "stdout",
          "text": [
            "Porter Steamer: ['the', 'stripe', 'bat', 'are', 'hang', 'on', 'their', 'feet', 'and', 'talk', ',', 'run', ',', 'file', ',', 'better', ',', 'care', ',', 'studi']\n"
          ]
        }
      ]
    },
    {
      "cell_type": "code",
      "source": [
        "\n",
        "lemmatizer=WordNetLemmatizer()\n",
        "lemmatized_words=[lemmatizer.lemmatize(word) for word in tokens]\n",
        "print(\"Lemmatizer Words:\", lemmatized_words)"
      ],
      "metadata": {
        "colab": {
          "base_uri": "https://localhost:8080/"
        },
        "id": "ZqvHoZKTDskq",
        "outputId": "028a5405-15ee-4280-ff2f-6856243ea324"
      },
      "execution_count": 5,
      "outputs": [
        {
          "output_type": "stream",
          "name": "stdout",
          "text": [
            "Lemmatizer Words: ['The', 'striped', 'bat', 'are', 'hanging', 'on', 'their', 'foot', 'and', 'talking', ',', 'Running', ',', 'file', ',', 'better', ',', 'cared', ',', 'studying']\n"
          ]
        }
      ]
    },
    {
      "cell_type": "code",
      "source": [
        "\n",
        "tokens=[word.lower() for word in tokens]\n",
        "print(\"Lowercase Tokens:\", tokens)"
      ],
      "metadata": {
        "colab": {
          "base_uri": "https://localhost:8080/"
        },
        "id": "ziNqHcFTEw6H",
        "outputId": "c439f3bf-c5da-4652-c5e1-30169d0f3d04"
      },
      "execution_count": 6,
      "outputs": [
        {
          "output_type": "stream",
          "name": "stdout",
          "text": [
            "Lowercase Tokens: ['the', 'striped', 'bats', 'are', 'hanging', 'on', 'their', 'feet', 'and', 'talking', ',', 'running', ',', 'files', ',', 'better', ',', 'cared', ',', 'studying']\n"
          ]
        }
      ]
    },
    {
      "cell_type": "code",
      "source": [
        "\n",
        "default_stopwords=set(stopwords.words('english'))\n",
        "default_filtered_tokens=[word for word in tokens if word not in default_stopwords]\n",
        "print(\"Tokens after removing default stopwords:\", default_filtered_tokens)"
      ],
      "metadata": {
        "colab": {
          "base_uri": "https://localhost:8080/"
        },
        "id": "mLu_LLrhHYlt",
        "outputId": "69c59b8e-9a44-4d7c-cb5d-7184b403c55d"
      },
      "execution_count": 8,
      "outputs": [
        {
          "output_type": "stream",
          "name": "stdout",
          "text": [
            "Tokens after removing default stopwords: ['striped', 'bats', 'hanging', 'feet', 'talking', ',', 'running', ',', 'files', ',', 'better', ',', 'cared', ',', 'studying']\n"
          ]
        }
      ]
    },
    {
      "cell_type": "code",
      "source": [
        "\n",
        "custom_stopwords={\"striped\",\"bats\",\".\"}\n",
        "custom_filtered_tokens=[word for word in default_filtered_tokens if word not in custom_stopwords]\n",
        "print(\"Tokens after removing custom stopwords:\", custom_filtered_tokens)"
      ],
      "metadata": {
        "colab": {
          "base_uri": "https://localhost:8080/"
        },
        "id": "mxzpEmU_JWZ9",
        "outputId": "3958cc8e-7871-4e65-c251-077909a02b24"
      },
      "execution_count": 10,
      "outputs": [
        {
          "output_type": "stream",
          "name": "stdout",
          "text": [
            "Tokens after removing custom stopwords: ['hanging', 'feet', 'talking', ',', 'running', ',', 'files', ',', 'better', ',', 'cared', ',', 'studying']\n"
          ]
        }
      ]
    }
  ]
}